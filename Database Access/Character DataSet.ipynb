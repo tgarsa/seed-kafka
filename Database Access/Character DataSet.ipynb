{
 "cells": [
  {
   "cell_type": "markdown",
   "id": "51e445b3",
   "metadata": {},
   "source": [
    "## Characteres. \n",
    "\n",
    "In this notebook, I will download the data from the table characters. \n",
    "\n",
    "This table has four columns, id, message_id, document_name, charac. \n",
    "\n",
    "\n",
    "\n",
    "| name | Description|\n",
    "|:-----|:----------|\n",
    "|id| Key data|\n",
    "|message_id| A unique identifier that define the instance of the text |\n",
    "|document name|The name of the file that contains the text| \n",
    "|charac| The characters that appear in this text|\n",
    "\n"
   ]
  },
  {
   "cell_type": "markdown",
   "id": "01afd72c",
   "metadata": {},
   "source": [
    "# Imports"
   ]
  },
  {
   "cell_type": "code",
   "execution_count": 4,
   "id": "7615f589",
   "metadata": {},
   "outputs": [],
   "source": [
    "# To haver acces to the data base\n",
    "import psycopg2 "
   ]
  },
  {
   "cell_type": "code",
   "execution_count": 5,
   "id": "e53b156d",
   "metadata": {},
   "outputs": [],
   "source": [
    "# To build the data frame\n",
    "from library import to_dataframe"
   ]
  },
  {
   "cell_type": "markdown",
   "id": "0901a916",
   "metadata": {},
   "source": [
    "## Conexion\n",
    "\n",
    "Define the conexion to the Postgres container.\n",
    "\n",
    "It is necesari to know the internal IP"
   ]
  },
  {
   "cell_type": "code",
   "execution_count": 6,
   "id": "e0967ed8",
   "metadata": {},
   "outputs": [],
   "source": [
    "# Define the conexion to the Postgres container.\n",
    "# It is necesari to know the internal IP\n",
    "\n",
    "conexion = psycopg2.connect( \n",
    "    host=\"192.168.178.35\",\n",
    "    port=5432,\n",
    "    database=\"seed\",\n",
    "    user=\"postgres\",\n",
    "    password=\"postgres\")"
   ]
  },
  {
   "cell_type": "code",
   "execution_count": 7,
   "id": "e60cc4dc",
   "metadata": {},
   "outputs": [],
   "source": [
    "# Conected to the server\n",
    "cursor=conexion.cursor()"
   ]
  },
  {
   "cell_type": "markdown",
   "id": "ad1426ef",
   "metadata": {},
   "source": [
    "## Download the whole dataset "
   ]
  },
  {
   "cell_type": "code",
   "execution_count": 8,
   "id": "acc3edb5",
   "metadata": {},
   "outputs": [],
   "source": [
    "# We will donwload the whole of the data\n",
    "sql=\"select * from characters\""
   ]
  },
  {
   "cell_type": "code",
   "execution_count": 9,
   "id": "2bcb7a29",
   "metadata": {},
   "outputs": [],
   "source": [
    "# Execute the SQL\n",
    "cursor.execute(sql)"
   ]
  },
  {
   "cell_type": "code",
   "execution_count": 10,
   "id": "950b0db2",
   "metadata": {},
   "outputs": [],
   "source": [
    "columns = ['id','message_id', 'document_name', 'charac']"
   ]
  },
  {
   "cell_type": "code",
   "execution_count": 11,
   "id": "2c25604c",
   "metadata": {},
   "outputs": [
    {
     "name": "stdout",
     "output_type": "stream",
     "text": [
      "Number of rows: 3126\n"
     ]
    }
   ],
   "source": [
    "# How many data?\n",
    "print('Number of rows: {}'.format(cursor.rowcount))"
   ]
  },
  {
   "cell_type": "code",
   "execution_count": 12,
   "id": "1f31ae66",
   "metadata": {},
   "outputs": [],
   "source": [
    "df = to_dataframe(cursor, columns)"
   ]
  },
  {
   "cell_type": "code",
   "execution_count": 13,
   "id": "2c1b2157",
   "metadata": {},
   "outputs": [
    {
     "data": {
      "text/html": [
       "<div>\n",
       "<style scoped>\n",
       "    .dataframe tbody tr th:only-of-type {\n",
       "        vertical-align: middle;\n",
       "    }\n",
       "\n",
       "    .dataframe tbody tr th {\n",
       "        vertical-align: top;\n",
       "    }\n",
       "\n",
       "    .dataframe thead th {\n",
       "        text-align: right;\n",
       "    }\n",
       "</style>\n",
       "<table border=\"1\" class=\"dataframe\">\n",
       "  <thead>\n",
       "    <tr style=\"text-align: right;\">\n",
       "      <th></th>\n",
       "      <th>id</th>\n",
       "      <th>message_id</th>\n",
       "      <th>document_name</th>\n",
       "      <th>charac</th>\n",
       "    </tr>\n",
       "  </thead>\n",
       "  <tbody>\n",
       "    <tr>\n",
       "      <th>0</th>\n",
       "      <td>1</td>\n",
       "      <td>d18fb65fa8456136b0282be29bdd1e399fbd82c4168935...</td>\n",
       "      <td>d18fb65fa8456136b0282be29bdd1e399fbd82c4</td>\n",
       "      <td>Dany</td>\n",
       "    </tr>\n",
       "    <tr>\n",
       "      <th>1</th>\n",
       "      <td>2</td>\n",
       "      <td>d18fb65fa8456136b0282be29bdd1e399fbd82c4168935...</td>\n",
       "      <td>d18fb65fa8456136b0282be29bdd1e399fbd82c4</td>\n",
       "      <td>Grace</td>\n",
       "    </tr>\n",
       "    <tr>\n",
       "      <th>2</th>\n",
       "      <td>3</td>\n",
       "      <td>d18fb65fa8456136b0282be29bdd1e399fbd82c4168935...</td>\n",
       "      <td>d18fb65fa8456136b0282be29bdd1e399fbd82c4</td>\n",
       "      <td>Irri</td>\n",
       "    </tr>\n",
       "    <tr>\n",
       "      <th>3</th>\n",
       "      <td>4</td>\n",
       "      <td>d18fb65fa8456136b0282be29bdd1e399fbd82c4168935...</td>\n",
       "      <td>d18fb65fa8456136b0282be29bdd1e399fbd82c4</td>\n",
       "      <td>Jorah</td>\n",
       "    </tr>\n",
       "    <tr>\n",
       "      <th>4</th>\n",
       "      <td>5</td>\n",
       "      <td>d18fb65fa8456136b0282be29bdd1e399fbd82c4168935...</td>\n",
       "      <td>d18fb65fa8456136b0282be29bdd1e399fbd82c4</td>\n",
       "      <td>Belwas</td>\n",
       "    </tr>\n",
       "    <tr>\n",
       "      <th>...</th>\n",
       "      <td>...</td>\n",
       "      <td>...</td>\n",
       "      <td>...</td>\n",
       "      <td>...</td>\n",
       "    </tr>\n",
       "    <tr>\n",
       "      <th>3121</th>\n",
       "      <td>3122</td>\n",
       "      <td>9330edb6f28dad5111de357b3d4c98bdb80abe93168936...</td>\n",
       "      <td>9330edb6f28dad5111de357b3d4c98bdb80abe93</td>\n",
       "      <td>Durin</td>\n",
       "    </tr>\n",
       "    <tr>\n",
       "      <th>3122</th>\n",
       "      <td>3123</td>\n",
       "      <td>9330edb6f28dad5111de357b3d4c98bdb80abe93168936...</td>\n",
       "      <td>9330edb6f28dad5111de357b3d4c98bdb80abe93</td>\n",
       "      <td>Gandalf</td>\n",
       "    </tr>\n",
       "    <tr>\n",
       "      <th>3123</th>\n",
       "      <td>3124</td>\n",
       "      <td>9330edb6f28dad5111de357b3d4c98bdb80abe93168936...</td>\n",
       "      <td>9330edb6f28dad5111de357b3d4c98bdb80abe93</td>\n",
       "      <td>Gimli</td>\n",
       "    </tr>\n",
       "    <tr>\n",
       "      <th>3124</th>\n",
       "      <td>3125</td>\n",
       "      <td>9330edb6f28dad5111de357b3d4c98bdb80abe93168936...</td>\n",
       "      <td>9330edb6f28dad5111de357b3d4c98bdb80abe93</td>\n",
       "      <td>Legolas</td>\n",
       "    </tr>\n",
       "    <tr>\n",
       "      <th>3125</th>\n",
       "      <td>3126</td>\n",
       "      <td>9330edb6f28dad5111de357b3d4c98bdb80abe93168936...</td>\n",
       "      <td>9330edb6f28dad5111de357b3d4c98bdb80abe93</td>\n",
       "      <td>Galadriel</td>\n",
       "    </tr>\n",
       "  </tbody>\n",
       "</table>\n",
       "<p>3126 rows × 4 columns</p>\n",
       "</div>"
      ],
      "text/plain": [
       "        id                                         message_id  \\\n",
       "0        1  d18fb65fa8456136b0282be29bdd1e399fbd82c4168935...   \n",
       "1        2  d18fb65fa8456136b0282be29bdd1e399fbd82c4168935...   \n",
       "2        3  d18fb65fa8456136b0282be29bdd1e399fbd82c4168935...   \n",
       "3        4  d18fb65fa8456136b0282be29bdd1e399fbd82c4168935...   \n",
       "4        5  d18fb65fa8456136b0282be29bdd1e399fbd82c4168935...   \n",
       "...    ...                                                ...   \n",
       "3121  3122  9330edb6f28dad5111de357b3d4c98bdb80abe93168936...   \n",
       "3122  3123  9330edb6f28dad5111de357b3d4c98bdb80abe93168936...   \n",
       "3123  3124  9330edb6f28dad5111de357b3d4c98bdb80abe93168936...   \n",
       "3124  3125  9330edb6f28dad5111de357b3d4c98bdb80abe93168936...   \n",
       "3125  3126  9330edb6f28dad5111de357b3d4c98bdb80abe93168936...   \n",
       "\n",
       "                                 document_name     charac  \n",
       "0     d18fb65fa8456136b0282be29bdd1e399fbd82c4       Dany  \n",
       "1     d18fb65fa8456136b0282be29bdd1e399fbd82c4      Grace  \n",
       "2     d18fb65fa8456136b0282be29bdd1e399fbd82c4       Irri  \n",
       "3     d18fb65fa8456136b0282be29bdd1e399fbd82c4      Jorah  \n",
       "4     d18fb65fa8456136b0282be29bdd1e399fbd82c4     Belwas  \n",
       "...                                        ...        ...  \n",
       "3121  9330edb6f28dad5111de357b3d4c98bdb80abe93      Durin  \n",
       "3122  9330edb6f28dad5111de357b3d4c98bdb80abe93    Gandalf  \n",
       "3123  9330edb6f28dad5111de357b3d4c98bdb80abe93      Gimli  \n",
       "3124  9330edb6f28dad5111de357b3d4c98bdb80abe93    Legolas  \n",
       "3125  9330edb6f28dad5111de357b3d4c98bdb80abe93  Galadriel  \n",
       "\n",
       "[3126 rows x 4 columns]"
      ]
     },
     "execution_count": 13,
     "metadata": {},
     "output_type": "execute_result"
    }
   ],
   "source": [
    "df"
   ]
  },
  {
   "cell_type": "markdown",
   "id": "8d661d4c",
   "metadata": {},
   "source": [
    "# Test if we loaded each doc only one time"
   ]
  },
  {
   "cell_type": "code",
   "execution_count": 14,
   "id": "b71b70c6",
   "metadata": {},
   "outputs": [],
   "source": [
    "sql = \"select document_name,  count( distinct message_id) from characters group by document_name\" "
   ]
  },
  {
   "cell_type": "code",
   "execution_count": 15,
   "id": "5cd0e318",
   "metadata": {},
   "outputs": [
    {
     "data": {
      "text/plain": [
       "'select document_name,  count( distinct message_id) from characters group by document_name'"
      ]
     },
     "execution_count": 15,
     "metadata": {},
     "output_type": "execute_result"
    }
   ],
   "source": [
    "sql "
   ]
  },
  {
   "cell_type": "code",
   "execution_count": 16,
   "id": "d1be1502",
   "metadata": {},
   "outputs": [],
   "source": [
    "# Execute the SQL\n",
    "cursor.execute(sql)"
   ]
  },
  {
   "cell_type": "code",
   "execution_count": 17,
   "id": "3fac4903",
   "metadata": {},
   "outputs": [],
   "source": [
    "df = to_dataframe(cursor, ['document_name', 'count message_id'])"
   ]
  },
  {
   "cell_type": "code",
   "execution_count": 18,
   "id": "4aa0362c",
   "metadata": {},
   "outputs": [
    {
     "data": {
      "text/html": [
       "<div>\n",
       "<style scoped>\n",
       "    .dataframe tbody tr th:only-of-type {\n",
       "        vertical-align: middle;\n",
       "    }\n",
       "\n",
       "    .dataframe tbody tr th {\n",
       "        vertical-align: top;\n",
       "    }\n",
       "\n",
       "    .dataframe thead th {\n",
       "        text-align: right;\n",
       "    }\n",
       "</style>\n",
       "<table border=\"1\" class=\"dataframe\">\n",
       "  <thead>\n",
       "    <tr style=\"text-align: right;\">\n",
       "      <th></th>\n",
       "      <th>document_name</th>\n",
       "      <th>count message_id</th>\n",
       "    </tr>\n",
       "  </thead>\n",
       "  <tbody>\n",
       "    <tr>\n",
       "      <th>0</th>\n",
       "      <td>004aab8bc8b0e9ba14d9138f7834b234509197ad</td>\n",
       "      <td>1</td>\n",
       "    </tr>\n",
       "    <tr>\n",
       "      <th>1</th>\n",
       "      <td>0183264782e9cc4aa4c4e235f64d82ba65c3d90d</td>\n",
       "      <td>1</td>\n",
       "    </tr>\n",
       "    <tr>\n",
       "      <th>2</th>\n",
       "      <td>026a5be8641edcca63922b0a838cda01e28d5121</td>\n",
       "      <td>1</td>\n",
       "    </tr>\n",
       "    <tr>\n",
       "      <th>3</th>\n",
       "      <td>05fa990adc72ba1582c76ba1d2a716fb57fe0197</td>\n",
       "      <td>1</td>\n",
       "    </tr>\n",
       "    <tr>\n",
       "      <th>4</th>\n",
       "      <td>0833c080bb485fd87d8f9cb6cee5fc0c6f3d2e71</td>\n",
       "      <td>1</td>\n",
       "    </tr>\n",
       "    <tr>\n",
       "      <th>...</th>\n",
       "      <td>...</td>\n",
       "      <td>...</td>\n",
       "    </tr>\n",
       "    <tr>\n",
       "      <th>267</th>\n",
       "      <td>fc86170f4532fcadb123335351375c5704b7531b</td>\n",
       "      <td>1</td>\n",
       "    </tr>\n",
       "    <tr>\n",
       "      <th>268</th>\n",
       "      <td>fcdb3e60c469baceb040bf52ebd34727ba5d5883</td>\n",
       "      <td>1</td>\n",
       "    </tr>\n",
       "    <tr>\n",
       "      <th>269</th>\n",
       "      <td>fdd9df368481c023e88486431268dae983ac7055</td>\n",
       "      <td>1</td>\n",
       "    </tr>\n",
       "    <tr>\n",
       "      <th>270</th>\n",
       "      <td>fe9207cae6b763f4efc13c50528881d254fa492e</td>\n",
       "      <td>1</td>\n",
       "    </tr>\n",
       "    <tr>\n",
       "      <th>271</th>\n",
       "      <td>ffa4c410a4c892b62eb2f35cbdfa1e1e8f8a1729</td>\n",
       "      <td>1</td>\n",
       "    </tr>\n",
       "  </tbody>\n",
       "</table>\n",
       "<p>272 rows × 2 columns</p>\n",
       "</div>"
      ],
      "text/plain": [
       "                                document_name count message_id\n",
       "0    004aab8bc8b0e9ba14d9138f7834b234509197ad                1\n",
       "1    0183264782e9cc4aa4c4e235f64d82ba65c3d90d                1\n",
       "2    026a5be8641edcca63922b0a838cda01e28d5121                1\n",
       "3    05fa990adc72ba1582c76ba1d2a716fb57fe0197                1\n",
       "4    0833c080bb485fd87d8f9cb6cee5fc0c6f3d2e71                1\n",
       "..                                        ...              ...\n",
       "267  fc86170f4532fcadb123335351375c5704b7531b                1\n",
       "268  fcdb3e60c469baceb040bf52ebd34727ba5d5883                1\n",
       "269  fdd9df368481c023e88486431268dae983ac7055                1\n",
       "270  fe9207cae6b763f4efc13c50528881d254fa492e                1\n",
       "271  ffa4c410a4c892b62eb2f35cbdfa1e1e8f8a1729                1\n",
       "\n",
       "[272 rows x 2 columns]"
      ]
     },
     "execution_count": 18,
     "metadata": {},
     "output_type": "execute_result"
    }
   ],
   "source": [
    "df"
   ]
  }
 ],
 "metadata": {
  "kernelspec": {
   "display_name": "Python 3 (ipykernel)",
   "language": "python",
   "name": "python3"
  },
  "language_info": {
   "codemirror_mode": {
    "name": "ipython",
    "version": 3
   },
   "file_extension": ".py",
   "mimetype": "text/x-python",
   "name": "python",
   "nbconvert_exporter": "python",
   "pygments_lexer": "ipython3",
   "version": "3.9.12"
  }
 },
 "nbformat": 4,
 "nbformat_minor": 5
}
