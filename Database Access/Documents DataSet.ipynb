{
 "cells": [
  {
   "cell_type": "markdown",
   "id": "51e445b3",
   "metadata": {},
   "source": [
    "## Documents\n",
    "\n",
    "In this notebook, I will download the data from the table Documents. \n",
    "\n",
    "This table has four columns, id, message_id, document_name, time, readers, saga. \n",
    "\n",
    "\n",
    "\n",
    "| name | Description|\n",
    "|:-----|:----------|\n",
    "|id| Key data|\n",
    "|message_id| A unique identifier that define the instance of the text |\n",
    "|document name|The name of the file that contains the text| \n",
    "|time| Message timestamp  |\n",
    "|readers | Number of readers of the document. |\n",
    "|saga | Saga to which the document belongs. |\n",
    "\n"
   ]
  },
  {
   "cell_type": "markdown",
   "id": "01afd72c",
   "metadata": {},
   "source": [
    "# Imports"
   ]
  },
  {
   "cell_type": "code",
   "execution_count": null,
   "id": "7615f589",
   "metadata": {},
   "outputs": [],
   "source": [
    "# To haver acces to the data base\n",
    "import psycopg2 "
   ]
  },
  {
   "cell_type": "code",
   "execution_count": null,
   "id": "e53b156d",
   "metadata": {},
   "outputs": [],
   "source": [
    "# To build the data frame\n",
    "from library import to_dataframe"
   ]
  },
  {
   "cell_type": "markdown",
   "id": "0901a916",
   "metadata": {},
   "source": [
    "## Conexion\n",
    "\n",
    "Define the conexion to the Postgres container.\n",
    "\n",
    "It is necesari to know the internal IP"
   ]
  },
  {
   "cell_type": "code",
   "execution_count": null,
   "id": "e0967ed8",
   "metadata": {},
   "outputs": [],
   "source": [
    "# Define the conexion to the Postgres container.\n",
    "# It is necesari to know the internal IP\n",
    "\n",
    "conexion = psycopg2.connect( \n",
    "    host=\"192.168.178.35\",\n",
    "    port=5432,\n",
    "    database=\"seed\",\n",
    "    user=\"postgres\",\n",
    "    password=\"postgres\")"
   ]
  },
  {
   "cell_type": "code",
   "execution_count": null,
   "id": "e60cc4dc",
   "metadata": {},
   "outputs": [],
   "source": [
    "# Conected to the server\n",
    "cursor=conexion.cursor()"
   ]
  },
  {
   "cell_type": "markdown",
   "id": "ad1426ef",
   "metadata": {},
   "source": [
    "## Download the whole dataset "
   ]
  },
  {
   "cell_type": "code",
   "execution_count": null,
   "id": "acc3edb5",
   "metadata": {},
   "outputs": [],
   "source": [
    "# We will donwload the whole of the data\n",
    "sql=\"select * from documents\""
   ]
  },
  {
   "cell_type": "code",
   "execution_count": null,
   "id": "2bcb7a29",
   "metadata": {},
   "outputs": [],
   "source": [
    "# Execute the SQL\n",
    "cursor.execute(sql)"
   ]
  },
  {
   "cell_type": "code",
   "execution_count": null,
   "id": "950b0db2",
   "metadata": {},
   "outputs": [],
   "source": [
    "columns = ['id','message_id', 'document_name', 'time', 'readers', 'saga']"
   ]
  },
  {
   "cell_type": "code",
   "execution_count": null,
   "id": "2c25604c",
   "metadata": {},
   "outputs": [],
   "source": [
    "# How many data?\n",
    "print('Number of rows: {}'.format(cursor.rowcount))"
   ]
  },
  {
   "cell_type": "code",
   "execution_count": null,
   "id": "1f31ae66",
   "metadata": {},
   "outputs": [],
   "source": [
    "df = to_dataframe(cursor, columns)"
   ]
  },
  {
   "cell_type": "code",
   "execution_count": null,
   "id": "2c1b2157",
   "metadata": {},
   "outputs": [],
   "source": [
    "df"
   ]
  },
  {
   "cell_type": "markdown",
   "id": "8d661d4c",
   "metadata": {},
   "source": [
    "# How many readers have each saga?"
   ]
  },
  {
   "cell_type": "code",
   "execution_count": null,
   "id": "b71b70c6",
   "metadata": {},
   "outputs": [],
   "source": [
    "sql = \"select saga,  sum( readers) from documents group by saga order by 2 desc\" "
   ]
  },
  {
   "cell_type": "code",
   "execution_count": null,
   "id": "5cd0e318",
   "metadata": {},
   "outputs": [],
   "source": [
    "sql "
   ]
  },
  {
   "cell_type": "code",
   "execution_count": null,
   "id": "d1be1502",
   "metadata": {},
   "outputs": [],
   "source": [
    "# Execute the SQL\n",
    "cursor.execute(sql)"
   ]
  },
  {
   "cell_type": "code",
   "execution_count": null,
   "id": "3fac4903",
   "metadata": {},
   "outputs": [],
   "source": [
    "df = to_dataframe(cursor, ['saga', 'count readers'])"
   ]
  },
  {
   "cell_type": "code",
   "execution_count": null,
   "id": "4aa0362c",
   "metadata": {},
   "outputs": [],
   "source": [
    "df"
   ]
  },
  {
   "cell_type": "markdown",
   "id": "8ada3fe0",
   "metadata": {},
   "source": [
    "# Minimum and Maximun time"
   ]
  },
  {
   "cell_type": "code",
   "execution_count": null,
   "id": "9be75eec",
   "metadata": {},
   "outputs": [],
   "source": [
    "from datetime import datetime"
   ]
  },
  {
   "cell_type": "code",
   "execution_count": null,
   "id": "e3c0a443",
   "metadata": {},
   "outputs": [],
   "source": [
    "sql = \"select min(time), max(time) from documents\" "
   ]
  },
  {
   "cell_type": "code",
   "execution_count": null,
   "id": "4fa7ef20",
   "metadata": {},
   "outputs": [],
   "source": [
    "# Execute the SQL\n",
    "cursor.execute(sql)"
   ]
  },
  {
   "cell_type": "code",
   "execution_count": null,
   "id": "afa10faf",
   "metadata": {},
   "outputs": [],
   "source": [
    "df = to_dataframe(cursor, ['Min', 'Max'])"
   ]
  },
  {
   "cell_type": "code",
   "execution_count": null,
   "id": "916416f7",
   "metadata": {},
   "outputs": [],
   "source": [
    "df"
   ]
  },
  {
   "cell_type": "code",
   "execution_count": null,
   "id": "890fe8b8",
   "metadata": {},
   "outputs": [],
   "source": [
    "print('The old data are since {}'.format(datetime.fromtimestamp(df['Min'][0])))"
   ]
  },
  {
   "cell_type": "code",
   "execution_count": null,
   "id": "887d7709",
   "metadata": {},
   "outputs": [],
   "source": [
    "print('The new data are from {}'.format(datetime.fromtimestamp(df['Max'][0])))"
   ]
  },
  {
   "cell_type": "markdown",
   "id": "5b383bcb",
   "metadata": {},
   "source": [
    "# Data before \"14-07-2023 01:00:00\""
   ]
  },
  {
   "cell_type": "code",
   "execution_count": null,
   "id": "477a751b",
   "metadata": {},
   "outputs": [],
   "source": [
    "# Python program to convert\n",
    "# date to timestamp\n",
    "\n",
    "import time\n",
    "\n",
    "\n",
    "string = \"14-07-2023 01:00:00\"\n",
    "\n",
    "element = datetime.strptime(string,\"%d-%m-%Y %H:%M:%S\")\n",
    "timestamp = time.mktime(element.timetuple())\n",
    "\n",
    "print(timestamp)\n"
   ]
  },
  {
   "cell_type": "code",
   "execution_count": null,
   "id": "3851491a",
   "metadata": {},
   "outputs": [],
   "source": [
    "sql = \"select * from documents where saga = 'hp' and time<{} order by readers desc\".format(timestamp)"
   ]
  },
  {
   "cell_type": "code",
   "execution_count": null,
   "id": "829eb21f",
   "metadata": {},
   "outputs": [],
   "source": [
    "sql"
   ]
  },
  {
   "cell_type": "code",
   "execution_count": null,
   "id": "638d574b",
   "metadata": {},
   "outputs": [],
   "source": [
    "# Execute the SQL\n",
    "cursor.execute(sql)"
   ]
  },
  {
   "cell_type": "code",
   "execution_count": null,
   "id": "0f1c2c3a",
   "metadata": {},
   "outputs": [],
   "source": [
    "df = to_dataframe(cursor, columns)"
   ]
  },
  {
   "cell_type": "code",
   "execution_count": null,
   "id": "3ff1ac26",
   "metadata": {},
   "outputs": [],
   "source": [
    "df"
   ]
  },
  {
   "cell_type": "code",
   "execution_count": null,
   "id": "990f9a8d",
   "metadata": {},
   "outputs": [],
   "source": [
    "print('The old data are since {}'.format(datetime.fromtimestamp(df['time'].min())))"
   ]
  },
  {
   "cell_type": "code",
   "execution_count": null,
   "id": "b8ac6354",
   "metadata": {},
   "outputs": [],
   "source": [
    "print('The new data are from {}'.format(datetime.fromtimestamp(df['time'].max())))"
   ]
  },
  {
   "cell_type": "code",
   "execution_count": null,
   "id": "41022eeb",
   "metadata": {},
   "outputs": [],
   "source": [
    "sql = \"select * from documents where saga = 'hp' and time>{} order by readers desc\".format(timestamp)"
   ]
  },
  {
   "cell_type": "code",
   "execution_count": null,
   "id": "0771a714",
   "metadata": {},
   "outputs": [],
   "source": [
    "# Execute the SQL\n",
    "cursor.execute(sql)"
   ]
  },
  {
   "cell_type": "code",
   "execution_count": null,
   "id": "66862c59",
   "metadata": {},
   "outputs": [],
   "source": [
    "df = to_dataframe(cursor, columns)"
   ]
  },
  {
   "cell_type": "code",
   "execution_count": null,
   "id": "7485c97d",
   "metadata": {},
   "outputs": [],
   "source": [
    "df"
   ]
  },
  {
   "cell_type": "code",
   "execution_count": null,
   "id": "40c47d3f",
   "metadata": {},
   "outputs": [],
   "source": [
    "print('The old data are since {}'.format(datetime.fromtimestamp(df['time'].min())))"
   ]
  },
  {
   "cell_type": "code",
   "execution_count": null,
   "id": "6b6dec60",
   "metadata": {},
   "outputs": [],
   "source": [
    "print('The new data are from {}'.format(datetime.fromtimestamp(df['time'].max())))"
   ]
  }
 ],
 "metadata": {
  "kernelspec": {
   "display_name": "Python 3 (ipykernel)",
   "language": "python",
   "name": "python3"
  },
  "language_info": {
   "codemirror_mode": {
    "name": "ipython",
    "version": 3
   },
   "file_extension": ".py",
   "mimetype": "text/x-python",
   "name": "python",
   "nbconvert_exporter": "python",
   "pygments_lexer": "ipython3",
   "version": "3.9.12"
  }
 },
 "nbformat": 4,
 "nbformat_minor": 5
}
