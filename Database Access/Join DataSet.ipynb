{
 "cells": [
  {
   "cell_type": "markdown",
   "id": "51e445b3",
   "metadata": {},
   "source": [
    "## Join the data\n",
    "\n",
    "We will join the data from both tables."
   ]
  },
  {
   "cell_type": "markdown",
   "id": "01afd72c",
   "metadata": {},
   "source": [
    "# Imports"
   ]
  },
  {
   "cell_type": "code",
   "execution_count": null,
   "id": "7615f589",
   "metadata": {},
   "outputs": [],
   "source": [
    "# To haver acces to the data base\n",
    "import psycopg2 "
   ]
  },
  {
   "cell_type": "code",
   "execution_count": null,
   "id": "e53b156d",
   "metadata": {},
   "outputs": [],
   "source": [
    "# To build the data frame\n",
    "from library import to_dataframe"
   ]
  },
  {
   "cell_type": "markdown",
   "id": "0901a916",
   "metadata": {},
   "source": [
    "## Conexion\n",
    "\n",
    "Define the conexion to the Postgres container.\n",
    "\n",
    "It is necesari to know the internal IP"
   ]
  },
  {
   "cell_type": "code",
   "execution_count": null,
   "id": "e0967ed8",
   "metadata": {},
   "outputs": [],
   "source": [
    "# Define the conexion to the Postgres container.\n",
    "# It is necesari to know the internal IP\n",
    "\n",
    "conexion = psycopg2.connect( \n",
    "    host=\"192.168.178.35\",\n",
    "    port=5432,\n",
    "    database=\"seed\",\n",
    "    user=\"postgres\",\n",
    "    password=\"postgres\")"
   ]
  },
  {
   "cell_type": "code",
   "execution_count": null,
   "id": "e60cc4dc",
   "metadata": {},
   "outputs": [],
   "source": [
    "# Conected to the server\n",
    "cursor=conexion.cursor()"
   ]
  },
  {
   "cell_type": "markdown",
   "id": "ad1426ef",
   "metadata": {},
   "source": [
    "## Download the whole dataset "
   ]
  },
  {
   "cell_type": "code",
   "execution_count": null,
   "id": "6a2294c5",
   "metadata": {},
   "outputs": [],
   "source": [
    "# We will donwload the whole of the data\n",
    "sql=\"select d.message_id, d.document_name, d.time, d.readers, d.saga, c.charac  from documents as d inner join characters as c on d.document_name = c.document_name\""
   ]
  },
  {
   "cell_type": "code",
   "execution_count": null,
   "id": "2bcb7a29",
   "metadata": {},
   "outputs": [],
   "source": [
    "# Execute the SQL\n",
    "cursor.execute(sql)"
   ]
  },
  {
   "cell_type": "code",
   "execution_count": null,
   "id": "950b0db2",
   "metadata": {},
   "outputs": [],
   "source": [
    "columns = ['message_id', 'document_name', 'time', 'readers', 'saga', 'charac']"
   ]
  },
  {
   "cell_type": "code",
   "execution_count": null,
   "id": "2c25604c",
   "metadata": {},
   "outputs": [],
   "source": [
    "# How many data?\n",
    "print('Number of rows: {}'.format(cursor.rowcount))"
   ]
  },
  {
   "cell_type": "code",
   "execution_count": null,
   "id": "1f31ae66",
   "metadata": {},
   "outputs": [],
   "source": [
    "df = to_dataframe(cursor, columns)"
   ]
  },
  {
   "cell_type": "code",
   "execution_count": null,
   "id": "2c1b2157",
   "metadata": {},
   "outputs": [],
   "source": [
    "df"
   ]
  },
  {
   "cell_type": "markdown",
   "id": "8d661d4c",
   "metadata": {},
   "source": [
    "# How many readers have each charac?"
   ]
  },
  {
   "cell_type": "code",
   "execution_count": null,
   "id": "b71b70c6",
   "metadata": {},
   "outputs": [],
   "source": [
    "sql=\"select c.charac, d.saga, sum(d.readers) from documents as d inner join characters as c on d.document_name = c.document_name group by 1,2 order by 3 desc limit 25\""
   ]
  },
  {
   "cell_type": "code",
   "execution_count": null,
   "id": "5cd0e318",
   "metadata": {},
   "outputs": [],
   "source": [
    "sql"
   ]
  },
  {
   "cell_type": "code",
   "execution_count": null,
   "id": "d1be1502",
   "metadata": {},
   "outputs": [],
   "source": [
    "# Execute the SQL\n",
    "cursor.execute(sql)"
   ]
  },
  {
   "cell_type": "code",
   "execution_count": null,
   "id": "3fac4903",
   "metadata": {},
   "outputs": [],
   "source": [
    "df = to_dataframe(cursor, ['charac', 'saga', 'num. readers'])"
   ]
  },
  {
   "cell_type": "code",
   "execution_count": null,
   "id": "4aa0362c",
   "metadata": {},
   "outputs": [],
   "source": [
    "df"
   ]
  },
  {
   "cell_type": "markdown",
   "id": "26bae052",
   "metadata": {},
   "source": [
    "# Samwise Gamgee's readers\n",
    "\n",
    "Referred to as 'Sam'"
   ]
  },
  {
   "cell_type": "code",
   "execution_count": null,
   "id": "9c459f25",
   "metadata": {},
   "outputs": [],
   "source": [
    "sql=\"select c.charac, d.saga,d.document_name, d.readers from documents as d inner join characters as c on d.document_name = c.document_name where (saga = 'lotr') and (charac='Sam') order by readers desc\""
   ]
  },
  {
   "cell_type": "code",
   "execution_count": null,
   "id": "fdb17ab8",
   "metadata": {},
   "outputs": [],
   "source": [
    "# Execute the SQL\n",
    "cursor.execute(sql)"
   ]
  },
  {
   "cell_type": "code",
   "execution_count": null,
   "id": "2858b7b1",
   "metadata": {},
   "outputs": [],
   "source": [
    "df = to_dataframe(cursor, ['charac', 'saga', 'Doc. Name' ,'readers'])"
   ]
  },
  {
   "cell_type": "code",
   "execution_count": null,
   "id": "f8089835",
   "metadata": {},
   "outputs": [],
   "source": [
    "df"
   ]
  },
  {
   "cell_type": "markdown",
   "id": "80c60c5f",
   "metadata": {},
   "source": [
    "Referred to as 'Sam Gamgee'"
   ]
  },
  {
   "cell_type": "code",
   "execution_count": null,
   "id": "478308eb",
   "metadata": {},
   "outputs": [],
   "source": [
    "sql=\"select c.charac, d.saga,d.document_name, d.readers from documents as d inner join characters as c on d.document_name = c.document_name where (saga = 'lotr') and (charac='Sam Gamgee') order by readers desc\""
   ]
  },
  {
   "cell_type": "code",
   "execution_count": null,
   "id": "37fd713e",
   "metadata": {},
   "outputs": [],
   "source": [
    "# Execute the SQL\n",
    "cursor.execute(sql)"
   ]
  },
  {
   "cell_type": "code",
   "execution_count": null,
   "id": "2919ac55",
   "metadata": {},
   "outputs": [],
   "source": [
    "df = to_dataframe(cursor, ['charac', 'saga', 'Doc. Name' ,'readers'])"
   ]
  },
  {
   "cell_type": "code",
   "execution_count": null,
   "id": "f6d93706",
   "metadata": {},
   "outputs": [],
   "source": [
    "df"
   ]
  },
  {
   "cell_type": "markdown",
   "id": "7f6a37a4",
   "metadata": {},
   "source": [
    "## Note. \n",
    "\n",
    "We have a mistake in the tokenization; we didn't think about the characters with names and surnames.\n",
    "\n",
    "It is necessary to resolve this horrible mistake."
   ]
  },
  {
   "cell_type": "markdown",
   "id": "97e15886",
   "metadata": {},
   "source": [
    "Referred to as 'Sam' or 'Sam Gamgee'"
   ]
  },
  {
   "cell_type": "code",
   "execution_count": null,
   "id": "4da87844",
   "metadata": {},
   "outputs": [],
   "source": [
    "sql=\"select c.charac, d.saga,d.document_name, d.readers from documents as d inner join characters as c on d.document_name = c.document_name where (saga = 'lotr') and ((charac='Sam Gamgee')or(charac='Sam')) order by readers desc\""
   ]
  },
  {
   "cell_type": "code",
   "execution_count": null,
   "id": "779128e2",
   "metadata": {},
   "outputs": [],
   "source": [
    "# Execute the SQL\n",
    "cursor.execute(sql)"
   ]
  },
  {
   "cell_type": "code",
   "execution_count": null,
   "id": "465e7b09",
   "metadata": {},
   "outputs": [],
   "source": [
    "df = to_dataframe(cursor, ['charac', 'saga', 'Doc. Name' ,'readers'])"
   ]
  },
  {
   "cell_type": "code",
   "execution_count": null,
   "id": "a75d42b6",
   "metadata": {},
   "outputs": [],
   "source": [
    "df"
   ]
  },
  {
   "cell_type": "code",
   "execution_count": null,
   "id": "f5c9bbea",
   "metadata": {},
   "outputs": [],
   "source": [
    "sql=\"select c.charac, d.saga, sum(d.readers) from documents as d inner join characters as c on d.document_name = c.document_name where (saga = 'lotr') and ((charac='Sam Gamgee')or(charac='Sam'))group by 1,2 order\""
   ]
  },
  {
   "cell_type": "markdown",
   "id": "e5f1c381",
   "metadata": {},
   "source": [
    "# Samwise Gamgee's total readers"
   ]
  },
  {
   "cell_type": "code",
   "execution_count": null,
   "id": "df48dbbf",
   "metadata": {},
   "outputs": [],
   "source": [
    "sql=\"select c.charac, d.saga, sum(d.readers) from documents as d inner join characters as c on d.document_name = c.document_name where (saga = 'lotr') and (charac='Sam') group by 1,2 order by 3 desc\""
   ]
  },
  {
   "cell_type": "code",
   "execution_count": null,
   "id": "4a61cb3b",
   "metadata": {},
   "outputs": [],
   "source": [
    "# Execute the SQL\n",
    "cursor.execute(sql)"
   ]
  },
  {
   "cell_type": "code",
   "execution_count": null,
   "id": "be4c57f5",
   "metadata": {},
   "outputs": [],
   "source": [
    "df = to_dataframe(cursor, ['charac', 'saga', 'readers'])"
   ]
  },
  {
   "cell_type": "code",
   "execution_count": null,
   "id": "b4e2b3a9",
   "metadata": {},
   "outputs": [],
   "source": [
    "df"
   ]
  }
 ],
 "metadata": {
  "kernelspec": {
   "display_name": "Python 3 (ipykernel)",
   "language": "python",
   "name": "python3"
  },
  "language_info": {
   "codemirror_mode": {
    "name": "ipython",
    "version": 3
   },
   "file_extension": ".py",
   "mimetype": "text/x-python",
   "name": "python",
   "nbconvert_exporter": "python",
   "pygments_lexer": "ipython3",
   "version": "3.9.12"
  }
 },
 "nbformat": 4,
 "nbformat_minor": 5
}
